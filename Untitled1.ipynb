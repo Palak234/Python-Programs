{
  "nbformat": 4,
  "nbformat_minor": 0,
  "metadata": {
    "colab": {
      "provenance": [],
      "authorship_tag": "ABX9TyPPyfkiK0nUwbeaJlsRniXl"
    },
    "kernelspec": {
      "name": "python3",
      "display_name": "Python 3"
    },
    "language_info": {
      "name": "python"
    }
  },
  "cells": [
    {
      "cell_type": "code",
      "execution_count": 1,
      "metadata": {
        "colab": {
          "base_uri": "https://localhost:8080/"
        },
        "id": "eGk-ZeN-Pm_g",
        "outputId": "c94f3f70-c8a1-40ce-b1b0-cb4b85d457e3"
      },
      "outputs": [
        {
          "output_type": "stream",
          "name": "stdout",
          "text": [
            "Data Science\n"
          ]
        }
      ],
      "source": [
        "my_string=\"Data Science\"\n",
        "print(my_string)"
      ]
    },
    {
      "cell_type": "code",
      "source": [
        "phrase=\"Data Scientist and Software Engineer\"\n",
        "print(phrase)"
      ],
      "metadata": {
        "colab": {
          "base_uri": "https://localhost:8080/"
        },
        "id": "rb_6QW-YP4Ut",
        "outputId": "e42376b7-af8c-4575-efc6-aca30399a580"
      },
      "execution_count": 2,
      "outputs": [
        {
          "output_type": "stream",
          "name": "stdout",
          "text": [
            "Data Scientist and Software Engineer\n"
          ]
        }
      ]
    },
    {
      "cell_type": "code",
      "source": [
        "string=\"Hello World\""
      ],
      "metadata": {
        "id": "re9OOVD_QHxY"
      },
      "execution_count": 3,
      "outputs": []
    },
    {
      "cell_type": "code",
      "source": [
        "print(string)\n",
        "type(string)"
      ],
      "metadata": {
        "colab": {
          "base_uri": "https://localhost:8080/"
        },
        "id": "2sSCffnjQWxM",
        "outputId": "a30eb15a-e47d-4433-d360-b673bb2d18a7"
      },
      "execution_count": 4,
      "outputs": [
        {
          "output_type": "stream",
          "name": "stdout",
          "text": [
            "Hello World\n"
          ]
        },
        {
          "output_type": "execute_result",
          "data": {
            "text/plain": [
              "str"
            ]
          },
          "metadata": {},
          "execution_count": 4
        }
      ]
    },
    {
      "cell_type": "code",
      "source": [
        "my_string=\"I'm an Engineer\"\n",
        "print(my_string)"
      ],
      "metadata": {
        "colab": {
          "base_uri": "https://localhost:8080/"
        },
        "id": "0eoRTbayQdO8",
        "outputId": "ab786cf7-427e-4a6c-9920-1e201c6a40a8"
      },
      "execution_count": 5,
      "outputs": [
        {
          "output_type": "stream",
          "name": "stdout",
          "text": [
            "I'm an Engineer\n"
          ]
        }
      ]
    },
    {
      "cell_type": "code",
      "source": [
        "hashtag=\"#\"\n",
        "print(hashtag)\n",
        "type(hashtag)"
      ],
      "metadata": {
        "colab": {
          "base_uri": "https://localhost:8080/"
        },
        "id": "GP23APhrRT7I",
        "outputId": "c9335020-d9dd-4e7e-cf3f-e2178dbb5cb6"
      },
      "execution_count": 7,
      "outputs": [
        {
          "output_type": "stream",
          "name": "stdout",
          "text": [
            "#\n"
          ]
        },
        {
          "output_type": "execute_result",
          "data": {
            "text/plain": [
              "str"
            ]
          },
          "metadata": {},
          "execution_count": 7
        }
      ]
    },
    {
      "cell_type": "code",
      "source": [
        "a=\"Coder\"\n",
        "len(a)"
      ],
      "metadata": {
        "colab": {
          "base_uri": "https://localhost:8080/"
        },
        "id": "pc5tGgeVRjjS",
        "outputId": "8acfc7bc-a8b9-4fdb-ec8b-127314543b96"
      },
      "execution_count": 8,
      "outputs": [
        {
          "output_type": "execute_result",
          "data": {
            "text/plain": [
              "5"
            ]
          },
          "metadata": {},
          "execution_count": 8
        }
      ]
    },
    {
      "cell_type": "code",
      "source": [
        "m=\"Machine Learning\"\n",
        "len(m)"
      ],
      "metadata": {
        "colab": {
          "base_uri": "https://localhost:8080/"
        },
        "id": "uDTrFI0YR02N",
        "outputId": "489da828-1568-45c1-efdf-594d3f414150"
      },
      "execution_count": 9,
      "outputs": [
        {
          "output_type": "execute_result",
          "data": {
            "text/plain": [
              "16"
            ]
          },
          "metadata": {},
          "execution_count": 9
        }
      ]
    },
    {
      "cell_type": "code",
      "source": [
        "string=\"Stastical Computing\"\n",
        "print(string[5])"
      ],
      "metadata": {
        "colab": {
          "base_uri": "https://localhost:8080/"
        },
        "id": "9B5ksXERSH66",
        "outputId": "7ee459dc-dd59-43d9-d1ef-577173d59190"
      },
      "execution_count": 10,
      "outputs": [
        {
          "output_type": "stream",
          "name": "stdout",
          "text": [
            "i\n"
          ]
        }
      ]
    },
    {
      "cell_type": "code",
      "source": [
        "print(string[-4])\n",
        "print(string[7])"
      ],
      "metadata": {
        "colab": {
          "base_uri": "https://localhost:8080/"
        },
        "id": "QX2Gm1gPSXfK",
        "outputId": "05a2cfa0-85a6-4b73-977f-f7ad982ca1a6"
      },
      "execution_count": 11,
      "outputs": [
        {
          "output_type": "stream",
          "name": "stdout",
          "text": [
            "t\n",
            "a\n"
          ]
        }
      ]
    },
    {
      "cell_type": "code",
      "source": [
        "len(string)"
      ],
      "metadata": {
        "colab": {
          "base_uri": "https://localhost:8080/"
        },
        "id": "4IhKHe9bSvSK",
        "outputId": "4d318048-09ef-4240-edb1-2c3002188399"
      },
      "execution_count": 12,
      "outputs": [
        {
          "output_type": "execute_result",
          "data": {
            "text/plain": [
              "19"
            ]
          },
          "metadata": {},
          "execution_count": 12
        }
      ]
    },
    {
      "cell_type": "code",
      "source": [
        "string1=\"Data Structures and Algorithms\"\n",
        "print(string1)\n",
        "print(string1[2:])"
      ],
      "metadata": {
        "colab": {
          "base_uri": "https://localhost:8080/"
        },
        "id": "e_de36oQSzHu",
        "outputId": "bd39d9c4-eb7b-4e60-8785-7eefc091046f"
      },
      "execution_count": 13,
      "outputs": [
        {
          "output_type": "stream",
          "name": "stdout",
          "text": [
            "Data Structures and Algorithms\n",
            "ta Structures and Algorithms\n"
          ]
        }
      ]
    },
    {
      "cell_type": "code",
      "source": [
        "print(string1[1:3])"
      ],
      "metadata": {
        "colab": {
          "base_uri": "https://localhost:8080/"
        },
        "id": "JeFX-JN4TgOZ",
        "outputId": "19c5e2bb-8a99-447a-d406-515c8f622a35"
      },
      "execution_count": 14,
      "outputs": [
        {
          "output_type": "stream",
          "name": "stdout",
          "text": [
            "at\n"
          ]
        }
      ]
    },
    {
      "cell_type": "code",
      "source": [
        "print(string1[:])\n",
        "print(string1[:])"
      ],
      "metadata": {
        "colab": {
          "base_uri": "https://localhost:8080/"
        },
        "id": "1SeZX8PuTpkQ",
        "outputId": "ab29260e-78fa-42f2-ea59-324b7aed2343"
      },
      "execution_count": 15,
      "outputs": [
        {
          "output_type": "stream",
          "name": "stdout",
          "text": [
            "Data Structures and Algorithms\n",
            "Data Structures and Algorithms\n"
          ]
        }
      ]
    },
    {
      "cell_type": "code",
      "source": [
        "print(string1[-2])"
      ],
      "metadata": {
        "colab": {
          "base_uri": "https://localhost:8080/"
        },
        "id": "uK8A_myJT4jv",
        "outputId": "37dee92c-a7be-4f4c-a04e-7b99fee0d3f4"
      },
      "execution_count": 16,
      "outputs": [
        {
          "output_type": "stream",
          "name": "stdout",
          "text": [
            "m\n"
          ]
        }
      ]
    },
    {
      "cell_type": "code",
      "source": [
        "print(string1[-6:-4])"
      ],
      "metadata": {
        "colab": {
          "base_uri": "https://localhost:8080/"
        },
        "id": "Phr0jIUuUCR1",
        "outputId": "32499236-5103-4912-8fb3-2f7af15733fb"
      },
      "execution_count": 19,
      "outputs": [
        {
          "output_type": "stream",
          "name": "stdout",
          "text": [
            "ri\n"
          ]
        }
      ]
    },
    {
      "cell_type": "code",
      "source": [
        "print(string1)\n",
        "print(string1[::3])"
      ],
      "metadata": {
        "colab": {
          "base_uri": "https://localhost:8080/"
        },
        "id": "Xbgogz8wUZN7",
        "outputId": "b9293d07-6d58-4a0b-a598-2a91e17aeac2"
      },
      "execution_count": 21,
      "outputs": [
        {
          "output_type": "stream",
          "name": "stdout",
          "text": [
            "Data Structures and Algorithms\n",
            "Datcr dlrh\n"
          ]
        }
      ]
    },
    {
      "cell_type": "code",
      "source": [
        "print(string1[2:5:4])"
      ],
      "metadata": {
        "colab": {
          "base_uri": "https://localhost:8080/"
        },
        "id": "y93hsvldfoPg",
        "outputId": "41e9e5b0-2905-476b-8c0c-7dcb079d8921"
      },
      "execution_count": 24,
      "outputs": [
        {
          "output_type": "stream",
          "name": "stdout",
          "text": [
            "t\n"
          ]
        }
      ]
    },
    {
      "cell_type": "code",
      "source": [
        "print(string[::-1])"
      ],
      "metadata": {
        "colab": {
          "base_uri": "https://localhost:8080/"
        },
        "id": "fPypF7a6gA9S",
        "outputId": "c74f7fd0-5d5a-4d1c-e785-93e66b78e24b"
      },
      "execution_count": 25,
      "outputs": [
        {
          "output_type": "stream",
          "name": "stdout",
          "text": [
            "gnitupmoC lacitsatS\n"
          ]
        }
      ]
    },
    {
      "cell_type": "code",
      "source": [
        "print(string1[1::-3])"
      ],
      "metadata": {
        "colab": {
          "base_uri": "https://localhost:8080/"
        },
        "id": "gYN-bLRUgNZw",
        "outputId": "75fbe84b-ea44-42fd-dc39-ca8af8608576"
      },
      "execution_count": 26,
      "outputs": [
        {
          "output_type": "stream",
          "name": "stdout",
          "text": [
            "a\n"
          ]
        }
      ]
    },
    {
      "cell_type": "code",
      "source": [
        "string1=\"Artificial\"\n",
        "string2=\"Intelligence\"\n",
        "print(string1 + ' ' + string2)"
      ],
      "metadata": {
        "colab": {
          "base_uri": "https://localhost:8080/"
        },
        "id": "YDDnFB9LiIbX",
        "outputId": "f9510513-d554-47e4-85f3-44755a325971"
      },
      "execution_count": 29,
      "outputs": [
        {
          "output_type": "stream",
          "name": "stdout",
          "text": [
            "Artificial Intelligence\n"
          ]
        }
      ]
    },
    {
      "cell_type": "code",
      "source": [
        "string1='abc'\n",
        "string2='def'\n",
        "num=3\n",
        "print(string1 + str(3) + string2)"
      ],
      "metadata": {
        "colab": {
          "base_uri": "https://localhost:8080/"
        },
        "id": "hQwMDjDljGbJ",
        "outputId": "a7d05881-f849-4999-fc3e-e84f3d28cb99"
      },
      "execution_count": 30,
      "outputs": [
        {
          "output_type": "stream",
          "name": "stdout",
          "text": [
            "abc3def\n"
          ]
        }
      ]
    },
    {
      "cell_type": "code",
      "source": [
        "len(string1)"
      ],
      "metadata": {
        "colab": {
          "base_uri": "https://localhost:8080/"
        },
        "id": "A2apg00gjh1J",
        "outputId": "168e5042-250d-4d02-8c1f-609ec44f1737"
      },
      "execution_count": 31,
      "outputs": [
        {
          "output_type": "execute_result",
          "data": {
            "text/plain": [
              "3"
            ]
          },
          "metadata": {},
          "execution_count": 31
        }
      ]
    },
    {
      "cell_type": "code",
      "source": [
        "string1.lower()\n",
        "print(string1)"
      ],
      "metadata": {
        "colab": {
          "base_uri": "https://localhost:8080/"
        },
        "id": "Eo6Ty9QljqkK",
        "outputId": "bc509f3a-084f-4b1f-f07b-7bf1c25a370c"
      },
      "execution_count": 32,
      "outputs": [
        {
          "output_type": "stream",
          "name": "stdout",
          "text": [
            "abc\n"
          ]
        }
      ]
    },
    {
      "cell_type": "code",
      "source": [
        "print(string2.upper())"
      ],
      "metadata": {
        "colab": {
          "base_uri": "https://localhost:8080/"
        },
        "id": "dOgMhxiRj1rl",
        "outputId": "f7b649fa-1fbb-4163-ebad-6183701ff3e1"
      },
      "execution_count": 35,
      "outputs": [
        {
          "output_type": "stream",
          "name": "stdout",
          "text": [
            "DEF\n"
          ]
        }
      ]
    },
    {
      "cell_type": "code",
      "source": [
        "string2.count('d')"
      ],
      "metadata": {
        "colab": {
          "base_uri": "https://localhost:8080/"
        },
        "id": "mdkmVHtXkVuI",
        "outputId": "a43c9ad8-4439-4df8-9a76-961a5b649c72"
      },
      "execution_count": 36,
      "outputs": [
        {
          "output_type": "execute_result",
          "data": {
            "text/plain": [
              "1"
            ]
          },
          "metadata": {},
          "execution_count": 36
        }
      ]
    },
    {
      "cell_type": "code",
      "source": [
        "string2.find('e')"
      ],
      "metadata": {
        "colab": {
          "base_uri": "https://localhost:8080/"
        },
        "id": "W9TQ_O62kxrA",
        "outputId": "300803ba-705f-428e-f141-2f86729dc06d"
      },
      "execution_count": 37,
      "outputs": [
        {
          "output_type": "execute_result",
          "data": {
            "text/plain": [
              "1"
            ]
          },
          "metadata": {},
          "execution_count": 37
        }
      ]
    },
    {
      "cell_type": "code",
      "source": [
        "string2.find('g')"
      ],
      "metadata": {
        "colab": {
          "base_uri": "https://localhost:8080/"
        },
        "id": "5tUDcAY7k6bn",
        "outputId": "2693c998-0393-4db4-bc92-c3f2ded85231"
      },
      "execution_count": 38,
      "outputs": [
        {
          "output_type": "execute_result",
          "data": {
            "text/plain": [
              "-1"
            ]
          },
          "metadata": {},
          "execution_count": 38
        }
      ]
    },
    {
      "cell_type": "code",
      "source": [
        "my_string=\"abcd\"\n",
        "print(my_string.replace('c','g'))"
      ],
      "metadata": {
        "colab": {
          "base_uri": "https://localhost:8080/"
        },
        "id": "WtGwNR79k_m3",
        "outputId": "4ca7475a-c14f-44a7-e9bd-e9f137368bb1"
      },
      "execution_count": 40,
      "outputs": [
        {
          "output_type": "stream",
          "name": "stdout",
          "text": [
            "abgd\n"
          ]
        }
      ]
    },
    {
      "cell_type": "code",
      "source": [
        "string=\"Data Scientist\"\n",
        "print(string.replace('Scientist','Analyst'))"
      ],
      "metadata": {
        "colab": {
          "base_uri": "https://localhost:8080/"
        },
        "id": "8q943WvQl1Cf",
        "outputId": "57f9bdee-6c0f-4f28-b185-d653c6f60d9f"
      },
      "execution_count": 41,
      "outputs": [
        {
          "output_type": "stream",
          "name": "stdout",
          "text": [
            "Data Analyst\n"
          ]
        }
      ]
    },
    {
      "cell_type": "code",
      "source": [
        "'Scientist' in string"
      ],
      "metadata": {
        "colab": {
          "base_uri": "https://localhost:8080/"
        },
        "id": "0-CLqvXpmMrt",
        "outputId": "319299e5-77a3-4137-810f-21482c5b9d7a"
      },
      "execution_count": 42,
      "outputs": [
        {
          "output_type": "execute_result",
          "data": {
            "text/plain": [
              "True"
            ]
          },
          "metadata": {},
          "execution_count": 42
        }
      ]
    },
    {
      "cell_type": "code",
      "source": [
        "first_name='Rahul'\n",
        "last_name='Gandhi'\n",
        "full_name=f'{first_name} {last_name} is a politician'\n",
        "print(full_name)"
      ],
      "metadata": {
        "colab": {
          "base_uri": "https://localhost:8080/"
        },
        "id": "31aWDGjMmyxa",
        "outputId": "b663a08b-dd74-47f3-8a0a-9d4edeb20a40"
      },
      "execution_count": 44,
      "outputs": [
        {
          "output_type": "stream",
          "name": "stdout",
          "text": [
            "Rahul Gandhi is a politician\n"
          ]
        }
      ]
    }
  ]
}