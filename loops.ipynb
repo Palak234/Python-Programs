{
  "nbformat": 4,
  "nbformat_minor": 0,
  "metadata": {
    "colab": {
      "provenance": [],
      "authorship_tag": "ABX9TyPgO6G16aHtfUWqJFkMtGAc"
    },
    "kernelspec": {
      "name": "python3",
      "display_name": "Python 3"
    },
    "language_info": {
      "name": "python"
    }
  },
  "cells": [
    {
      "cell_type": "code",
      "execution_count": null,
      "metadata": {
        "colab": {
          "base_uri": "https://localhost:8080/"
        },
        "id": "frI6OVOlmZkf",
        "outputId": "390558ad-76db-4ffc-f543-907593294704"
      },
      "outputs": [
        {
          "output_type": "stream",
          "name": "stdout",
          "text": [
            "House Stark\n",
            "House Lannister\n",
            "House Targaryen\n",
            "House Baratheon\n",
            "House Greyjoy\n",
            "House Martell\n",
            "House Arryn\n",
            "House Tully\n",
            "House Tyrell\n"
          ]
        }
      ],
      "source": [
        "# for loop\n",
        "great_houses=['Stark','Lannister','Targaryen','Baratheon','Greyjoy','Martell','Arryn','Tully','Tyrell']\n",
        "for house in great_houses:\n",
        "  print(f\"House {house}\")"
      ]
    },
    {
      "cell_type": "code",
      "source": [
        "for number,house in enumerate(great_houses):\n",
        "  print(f\"The house number of house {house} is {number}\")"
      ],
      "metadata": {
        "id": "H_MLo9wYozmo"
      },
      "execution_count": null,
      "outputs": []
    },
    {
      "cell_type": "code",
      "source": [
        "list(enumerate(great_houses))"
      ],
      "metadata": {
        "colab": {
          "base_uri": "https://localhost:8080/"
        },
        "id": "dmJzMX6VpyEE",
        "outputId": "9fe2f179-12e5-430c-f813-4d3ebec47c82"
      },
      "execution_count": null,
      "outputs": [
        {
          "output_type": "execute_result",
          "data": {
            "text/plain": [
              "[(0, 'Stark'),\n",
              " (1, 'Lannister'),\n",
              " (2, 'Targaryen'),\n",
              " (3, 'Baratheon'),\n",
              " (4, 'Greyjoy'),\n",
              " (5, 'Martell'),\n",
              " (6, 'Arryn'),\n",
              " (7, 'Tully'),\n",
              " (8, 'Tyrell')]"
            ]
          },
          "metadata": {},
          "execution_count": 4
        }
      ]
    },
    {
      "cell_type": "code",
      "source": [
        "list_numbers=[2,4,6,8,10]\n",
        "for number in list_numbers:\n",
        "  square=number**2\n",
        "  print(f\"Square of {number} is {square}\")"
      ],
      "metadata": {
        "colab": {
          "base_uri": "https://localhost:8080/"
        },
        "id": "Sv1YYVmVp8K5",
        "outputId": "14c903b7-77ee-4023-b880-1e627adf7f8e"
      },
      "execution_count": null,
      "outputs": [
        {
          "output_type": "stream",
          "name": "stdout",
          "text": [
            "Square of 2 is 4\n",
            "Square of 4 is 16\n",
            "Square of 6 is 36\n",
            "Square of 8 is 64\n",
            "Square of 10 is 100\n"
          ]
        }
      ]
    },
    {
      "cell_type": "code",
      "source": [
        "list_numbers=[2,4,6,8,10]\n",
        "square_of_numbers=[]\n",
        "for number in list_numbers:\n",
        "  square=number**2\n",
        "  square_of_numbers.append(square)\n",
        "print(f\"List of square of numbers is {square_of_numbers}\")"
      ],
      "metadata": {
        "colab": {
          "base_uri": "https://localhost:8080/"
        },
        "id": "4OPW9THZqlyI",
        "outputId": "e0902fd6-1361-4378-8699-6f00dfa37221"
      },
      "execution_count": null,
      "outputs": [
        {
          "output_type": "stream",
          "name": "stdout",
          "text": [
            "List of square of numbers is [4, 16, 36, 64, 100]\n"
          ]
        }
      ]
    },
    {
      "cell_type": "code",
      "source": [
        "zipped_dict=dict(zip(list_numbers,square_of_numbers))\n",
        "print(zipped_dict)"
      ],
      "metadata": {
        "colab": {
          "base_uri": "https://localhost:8080/"
        },
        "id": "FmQShLC8rhLD",
        "outputId": "f4578e83-28c2-4745-ecf1-483eca4d69dc"
      },
      "execution_count": null,
      "outputs": [
        {
          "output_type": "stream",
          "name": "stdout",
          "text": [
            "{2: 4, 4: 16, 6: 36, 8: 64, 10: 100}\n"
          ]
        }
      ]
    },
    {
      "cell_type": "code",
      "source": [
        "list1_numbers=[1,2,4,5,6,7,8,9,10]\n",
        "for number in list1_numbers:\n",
        "  if number%2==0:\n",
        "    square=number**2\n",
        "    print(f\"Square of {number} is {square}\")\n",
        "  else:\n",
        "    print(\"Odd number\")"
      ],
      "metadata": {
        "colab": {
          "base_uri": "https://localhost:8080/"
        },
        "id": "wFcR3_9Qr4Gg",
        "outputId": "19973173-c5e3-4127-91c1-25bfc8f8b0d4"
      },
      "execution_count": null,
      "outputs": [
        {
          "output_type": "stream",
          "name": "stdout",
          "text": [
            "Odd number\n",
            "Square of 2 is 4\n",
            "Square of 4 is 16\n",
            "Odd number\n",
            "Square of 6 is 36\n",
            "Odd number\n",
            "Square of 8 is 64\n",
            "Odd number\n",
            "Square of 10 is 100\n"
          ]
        }
      ]
    },
    {
      "cell_type": "code",
      "source": [
        "for number in range(1,11,2):\n",
        "  square=number**2\n",
        "  print(f\"Square of {number} is  {square}\")"
      ],
      "metadata": {
        "colab": {
          "base_uri": "https://localhost:8080/"
        },
        "id": "X3KmdrVistAV",
        "outputId": "440d1251-19f4-41d7-eb85-b07c338caa70"
      },
      "execution_count": null,
      "outputs": [
        {
          "output_type": "stream",
          "name": "stdout",
          "text": [
            "Square of 1 is  1\n",
            "Square of 3 is  9\n",
            "Square of 5 is  25\n",
            "Square of 7 is  49\n",
            "Square of 9 is  81\n"
          ]
        }
      ]
    },
    {
      "cell_type": "code",
      "source": [
        "for i in range(1,10,2):\n",
        "  print(i)"
      ],
      "metadata": {
        "colab": {
          "base_uri": "https://localhost:8080/"
        },
        "id": "Z5NKmON9tWAg",
        "outputId": "86a9920e-8a58-4e6e-a40c-51a181b8d70f"
      },
      "execution_count": null,
      "outputs": [
        {
          "output_type": "stream",
          "name": "stdout",
          "text": [
            "1\n",
            "3\n",
            "5\n",
            "7\n",
            "9\n"
          ]
        }
      ]
    },
    {
      "cell_type": "code",
      "source": [
        "sum_of_squares=0\n",
        "for num in range(1,20):\n",
        "  sum_of_squares = sum_of_squares + num**2\n",
        "print(f\"Sum of squares of 20 numbers is {sum_of_squares}\")"
      ],
      "metadata": {
        "colab": {
          "base_uri": "https://localhost:8080/"
        },
        "id": "JA5F6guRtoIi",
        "outputId": "a64a3999-facb-4ce7-bbfe-da9865313839"
      },
      "execution_count": null,
      "outputs": [
        {
          "output_type": "stream",
          "name": "stdout",
          "text": [
            "Sum of squares of 20 numbers is 2470\n"
          ]
        }
      ]
    },
    {
      "cell_type": "code",
      "source": [
        "my_string='Hello World'\n",
        "for index,char in enumerate(my_string):\n",
        "  print(f\"The index is {index} and the character is {char}\")"
      ],
      "metadata": {
        "colab": {
          "base_uri": "https://localhost:8080/"
        },
        "id": "02pMnd8YuWax",
        "outputId": "5b6da56f-2786-487e-a482-b20f758e1079"
      },
      "execution_count": null,
      "outputs": [
        {
          "output_type": "stream",
          "name": "stdout",
          "text": [
            "The index is 0 and the character is H\n",
            "The index is 1 and the character is e\n",
            "The index is 2 and the character is l\n",
            "The index is 3 and the character is l\n",
            "The index is 4 and the character is o\n",
            "The index is 5 and the character is  \n",
            "The index is 6 and the character is W\n",
            "The index is 7 and the character is o\n",
            "The index is 8 and the character is r\n",
            "The index is 9 and the character is l\n",
            "The index is 10 and the character is d\n"
          ]
        }
      ]
    },
    {
      "cell_type": "code",
      "source": [
        "my_string='Hello World'\n",
        "split_string=my_string.split(' ')\n",
        "print(split_string)"
      ],
      "metadata": {
        "colab": {
          "base_uri": "https://localhost:8080/"
        },
        "id": "pULn5ed5vjXj",
        "outputId": "9f840268-0a9d-4122-a156-30f4cabcbdbe"
      },
      "execution_count": null,
      "outputs": [
        {
          "output_type": "stream",
          "name": "stdout",
          "text": [
            "['Hello', 'World']\n"
          ]
        }
      ]
    },
    {
      "cell_type": "code",
      "source": [
        "for string in split_string:\n",
        "  print(f\"The word in string is {string}\")"
      ],
      "metadata": {
        "colab": {
          "base_uri": "https://localhost:8080/"
        },
        "id": "1s2OZRQjvy9Q",
        "outputId": "1855f4f9-f7ad-4e50-fb2d-3303f826327c"
      },
      "execution_count": null,
      "outputs": [
        {
          "output_type": "stream",
          "name": "stdout",
          "text": [
            "The word in string is Hello\n",
            "The word in string is World\n"
          ]
        }
      ]
    },
    {
      "cell_type": "code",
      "source": [
        "country_city_river_list=[('India','New Delhi','Ganga'),('Australia','Canberra','Rovers'),('United States','Washington DC','Missouri')]\n",
        "for country,city,river in country_city_river_list:\n",
        "  print(f\"The capital of the country {country} is {city} and it also has river {river}\")"
      ],
      "metadata": {
        "id": "BkwIYCGhwh0N",
        "colab": {
          "base_uri": "https://localhost:8080/"
        },
        "outputId": "911a784f-676e-4cb2-b91d-8d4658646e54"
      },
      "execution_count": 1,
      "outputs": [
        {
          "output_type": "stream",
          "name": "stdout",
          "text": [
            "The capital of the country India is New Delhi and it also has river Ganga\n",
            "The capital of the country Australia is Canberra and it also has river Rovers\n",
            "The capital of the country United States is Washington DC and it also has river Missouri\n"
          ]
        }
      ]
    },
    {
      "cell_type": "code",
      "source": [
        "country_city_dict={1:'India',2:'USA'}\n",
        "for item in country_city_dict:\n",
        "  print(item,country_city_dict[item])"
      ],
      "metadata": {
        "colab": {
          "base_uri": "https://localhost:8080/"
        },
        "id": "hRlQafMSDus2",
        "outputId": "fda7422c-a432-43cb-9f61-427546fe576a"
      },
      "execution_count": 2,
      "outputs": [
        {
          "output_type": "stream",
          "name": "stdout",
          "text": [
            "1 India\n",
            "2 USA\n"
          ]
        }
      ]
    },
    {
      "cell_type": "code",
      "source": [
        "country_city_dict.items()"
      ],
      "metadata": {
        "colab": {
          "base_uri": "https://localhost:8080/"
        },
        "id": "mJWyxDEIHPLO",
        "outputId": "9be3f013-5bae-4942-b869-baddc13c1b5b"
      },
      "execution_count": 3,
      "outputs": [
        {
          "output_type": "execute_result",
          "data": {
            "text/plain": [
              "dict_items([(1, 'India'), (2, 'USA')])"
            ]
          },
          "metadata": {},
          "execution_count": 3
        }
      ]
    },
    {
      "cell_type": "code",
      "source": [
        "# while loop\n",
        "x=0\n",
        "while x<10:\n",
        "  print(f'x is currently:{x}')\n",
        "  print('x is still less than 10, adding 1 to x')\n",
        "  x=x+1"
      ],
      "metadata": {
        "colab": {
          "base_uri": "https://localhost:8080/"
        },
        "id": "qANgRUCGHZ0o",
        "outputId": "5c0b4ecd-0a46-4f0e-dca3-37745e9cd800"
      },
      "execution_count": 4,
      "outputs": [
        {
          "output_type": "stream",
          "name": "stdout",
          "text": [
            "x is currently:0\n",
            "x is still less than 10, adding 1 to x\n",
            "x is currently:1\n",
            "x is still less than 10, adding 1 to x\n",
            "x is currently:2\n",
            "x is still less than 10, adding 1 to x\n",
            "x is currently:3\n",
            "x is still less than 10, adding 1 to x\n",
            "x is currently:4\n",
            "x is still less than 10, adding 1 to x\n",
            "x is currently:5\n",
            "x is still less than 10, adding 1 to x\n",
            "x is currently:6\n",
            "x is still less than 10, adding 1 to x\n",
            "x is currently:7\n",
            "x is still less than 10, adding 1 to x\n",
            "x is currently:8\n",
            "x is still less than 10, adding 1 to x\n",
            "x is currently:9\n",
            "x is still less than 10, adding 1 to x\n"
          ]
        }
      ]
    },
    {
      "cell_type": "code",
      "source": [
        "x=3\n",
        "while x<10:\n",
        "  if x==3:\n",
        "    print('x==3')\n",
        "    x+=1\n",
        "    continue\n",
        "  else:\n",
        "    break\n",
        ""
      ],
      "metadata": {
        "colab": {
          "base_uri": "https://localhost:8080/"
        },
        "id": "SBDGgTmyJIxz",
        "outputId": "e3a8e8b4-946d-4943-8d90-f391d0e03925"
      },
      "execution_count": 11,
      "outputs": [
        {
          "output_type": "stream",
          "name": "stdout",
          "text": [
            "x==3\n"
          ]
        }
      ]
    }
  ]
}