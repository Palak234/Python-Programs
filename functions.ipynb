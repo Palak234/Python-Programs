{
  "nbformat": 4,
  "nbformat_minor": 0,
  "metadata": {
    "colab": {
      "provenance": [],
      "authorship_tag": "ABX9TyOqkpJ5fwegY5c/5UB16rP1"
    },
    "kernelspec": {
      "name": "python3",
      "display_name": "Python 3"
    },
    "language_info": {
      "name": "python"
    }
  },
  "cells": [
    {
      "cell_type": "code",
      "execution_count": null,
      "metadata": {
        "colab": {
          "base_uri": "https://localhost:8080/"
        },
        "id": "bY_gwK1Flou5",
        "outputId": "b106e837-6522-401f-fd03-8e1386aadb4e"
      },
      "outputs": [
        {
          "output_type": "stream",
          "name": "stdout",
          "text": [
            "['D', 's', 'i', 't', 'p', 'o', 'u', 's', 'm', 't', 'a', 'd', 't', 'g', 'i']\n"
          ]
        }
      ],
      "source": [
        "my_string='Data science is the process of using scientific methods to analyze data to gain insights'\n",
        "def extract_first_letters(sentence):\n",
        "  '''\n",
        "  This function takes a sentence as an input and returns the first letters of each word\n",
        "  '''\n",
        "  words_in_sentence=sentence.split(' ')\n",
        "  first_letters=[word[0] for word in words_in_sentence]\n",
        "\n",
        "  return first_letters\n",
        "print(extract_first_letters(my_string))"
      ]
    },
    {
      "cell_type": "code",
      "source": [
        "def factorial(num):\n",
        "  '''\n",
        "  Function for calculating factorial of a number\n",
        "  '''\n",
        "  result=1\n",
        "  if num<0:\n",
        "    print('Factorial is not defined for negative numbers')\n",
        "  elif num>0:\n",
        "    for i in range(1,num+1):\n",
        "      result*=i\n",
        "    return result\n",
        "  else:\n",
        "    print('Factorial of 0 is 1')\n",
        "\n",
        "factorial(7)"
      ],
      "metadata": {
        "id": "qYsUSVfqqO9s",
        "colab": {
          "base_uri": "https://localhost:8080/"
        },
        "outputId": "a5025172-f874-48da-8d73-26a9269431e8"
      },
      "execution_count": null,
      "outputs": [
        {
          "output_type": "execute_result",
          "data": {
            "text/plain": [
              "5040"
            ]
          },
          "metadata": {},
          "execution_count": 2
        }
      ]
    },
    {
      "cell_type": "code",
      "source": [
        "# Using List Comprehension\n",
        "list_numbers=[1,2,3,4,8]\n",
        "factorial_list=[factorial(number) for number in list_numbers if number%2!=0]\n",
        "print(factorial_list)"
      ],
      "metadata": {
        "colab": {
          "base_uri": "https://localhost:8080/"
        },
        "id": "k-rPJV3-Rd3K",
        "outputId": "545da8ee-2167-4ee9-85e9-2d7e8e28cdc9"
      },
      "execution_count": null,
      "outputs": [
        {
          "output_type": "stream",
          "name": "stdout",
          "text": [
            "[1, 6]\n"
          ]
        }
      ]
    },
    {
      "cell_type": "code",
      "source": [
        "def assignQuarter(user_date):\n",
        "  '''\n",
        "  This function prints the quarter for a given date string\n",
        "  '''\n",
        "  date_year=user_date[:4]\n",
        "  date_month=user_date[5:7]\n",
        "  if(date_month>='01') & (date_month<='03'):\n",
        "    quarter=date_year+'-Q1'\n",
        "  elif(date_month>='04') & (date_month<='06'):\n",
        "    quarter=date_year+'-Q2'\n",
        "  elif(date_month>='07') & (date_month<='09'):\n",
        "    quarter=date_year+'-Q3'\n",
        "  else:\n",
        "    quarter=date_year+'-Q4'\n",
        "  return quarter\n",
        "sample_date='2025-01-01'\n",
        "assignQuarter(sample_date)"
      ],
      "metadata": {
        "id": "SFvKivknHy8Z",
        "colab": {
          "base_uri": "https://localhost:8080/",
          "height": 35
        },
        "outputId": "315d15a5-48a8-4541-9614-2d3f31690841"
      },
      "execution_count": 6,
      "outputs": [
        {
          "output_type": "execute_result",
          "data": {
            "text/plain": [
              "'2025-Q1'"
            ],
            "application/vnd.google.colaboratory.intrinsic+json": {
              "type": "string"
            }
          },
          "metadata": {},
          "execution_count": 6
        }
      ]
    },
    {
      "cell_type": "code",
      "source": [
        "my_list=[2,4,6,8,10]\n",
        "def list_append(my_list,elem):\n",
        "  '''\n",
        "  This function appends an element to the list\n",
        "  '''\n",
        "  new_list=my_list+[elem]\n",
        "  return new_list\n",
        "list_append(my_list,12)"
      ],
      "metadata": {
        "colab": {
          "base_uri": "https://localhost:8080/"
        },
        "id": "vmzDU2T2dFv1",
        "outputId": "2d6d541b-c933-4fbf-f00d-76798958842f"
      },
      "execution_count": 7,
      "outputs": [
        {
          "output_type": "execute_result",
          "data": {
            "text/plain": [
              "[2, 4, 6, 8, 10, 12]"
            ]
          },
          "metadata": {},
          "execution_count": 7
        }
      ]
    },
    {
      "cell_type": "code",
      "source": [
        "# Scpe\n",
        "def experiment():\n",
        "  global x\n",
        "  x=25\n",
        "  return x\n",
        "x=5\n",
        "experiment()"
      ],
      "metadata": {
        "colab": {
          "base_uri": "https://localhost:8080/"
        },
        "id": "w9nSJTnHeuWu",
        "outputId": "74d601b7-9a6f-42c4-e531-4ae534e73cd1"
      },
      "execution_count": 9,
      "outputs": [
        {
          "output_type": "execute_result",
          "data": {
            "text/plain": [
              "25"
            ]
          },
          "metadata": {},
          "execution_count": 9
        }
      ]
    },
    {
      "cell_type": "code",
      "source": [
        "x"
      ],
      "metadata": {
        "colab": {
          "base_uri": "https://localhost:8080/"
        },
        "id": "rq_DzVaSfW-p",
        "outputId": "7231be74-7964-4767-ab7a-5734f149d65c"
      },
      "execution_count": 11,
      "outputs": [
        {
          "output_type": "execute_result",
          "data": {
            "text/plain": [
              "25"
            ]
          },
          "metadata": {},
          "execution_count": 11
        }
      ]
    }
  ]
}