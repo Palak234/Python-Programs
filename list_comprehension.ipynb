{
  "nbformat": 4,
  "nbformat_minor": 0,
  "metadata": {
    "colab": {
      "provenance": [],
      "authorship_tag": "ABX9TyNMLT+szCBZj/C1ms2P25tO"
    },
    "kernelspec": {
      "name": "python3",
      "display_name": "Python 3"
    },
    "language_info": {
      "name": "python"
    }
  },
  "cells": [
    {
      "cell_type": "code",
      "execution_count": null,
      "metadata": {
        "colab": {
          "base_uri": "https://localhost:8080/"
        },
        "id": "2PCKthWmz6pD",
        "outputId": "8cd4608d-0877-4cfb-d71f-560cbbacdeaf"
      },
      "outputs": [
        {
          "output_type": "stream",
          "name": "stdout",
          "text": [
            "[4, 9, 16, 25, 49, 81]\n"
          ]
        }
      ],
      "source": [
        "list_numbers=[2,3,4,5,7,9]\n",
        "squared_numbers=[number**2 for number in list_numbers]\n",
        "print(squared_numbers)"
      ]
    },
    {
      "cell_type": "code",
      "source": [
        "even_squared_numbers=[number**2 for number in list_numbers if number%2==0]\n",
        "print(even_squared_numbers)"
      ],
      "metadata": {
        "colab": {
          "base_uri": "https://localhost:8080/"
        },
        "id": "_2U1HdzN1bIM",
        "outputId": "548e42c6-6c59-4abc-9c9d-b3298931f34c"
      },
      "execution_count": null,
      "outputs": [
        {
          "output_type": "stream",
          "name": "stdout",
          "text": [
            "[4, 16]\n"
          ]
        }
      ]
    },
    {
      "cell_type": "code",
      "source": [
        "odd_squared_numbers=[number**2 for number in list_numbers if number%2!=0]\n",
        "print(odd_squared_numbers)"
      ],
      "metadata": {
        "colab": {
          "base_uri": "https://localhost:8080/"
        },
        "id": "5wmR52ma2JSa",
        "outputId": "f083911c-5487-4c86-9768-3878f5c2b4e5"
      },
      "execution_count": null,
      "outputs": [
        {
          "output_type": "stream",
          "name": "stdout",
          "text": [
            "[9, 25, 49, 81]\n"
          ]
        }
      ]
    },
    {
      "cell_type": "code",
      "source": [
        "list_numbers=[2,3,4,5,7,9]\n",
        "square_cube_numbers=[number**2 if number%2!=0 else number**3 for number in list_numbers]\n",
        "print(square_cube_numbers)"
      ],
      "metadata": {
        "colab": {
          "base_uri": "https://localhost:8080/"
        },
        "id": "X7zcYrpT2bF2",
        "outputId": "816148e2-d5e4-47d7-8200-0b3eb9f03aa7"
      },
      "execution_count": null,
      "outputs": [
        {
          "output_type": "stream",
          "name": "stdout",
          "text": [
            "[8, 9, 64, 25, 49, 81]\n"
          ]
        }
      ]
    },
    {
      "cell_type": "code",
      "source": [
        "list_numbers=[]\n",
        "for num1 in range(4):\n",
        "  for num2 in range(3):\n",
        "    list_numbers.append(num2)\n",
        "print(list_numbers)"
      ],
      "metadata": {
        "colab": {
          "base_uri": "https://localhost:8080/"
        },
        "id": "S6GZgUN03mJB",
        "outputId": "c3c8c251-a341-413c-8ebe-2835a06bfe3e"
      },
      "execution_count": null,
      "outputs": [
        {
          "output_type": "stream",
          "name": "stdout",
          "text": [
            "[0, 1, 2, 0, 1, 2, 0, 1, 2, 0, 1, 2]\n"
          ]
        }
      ]
    },
    {
      "cell_type": "code",
      "source": [
        "# Using List comprehension\n",
        "list_numbers=[num2 for num1 in range(4) for num2 in range(3)]\n",
        "print(list_numbers)"
      ],
      "metadata": {
        "colab": {
          "base_uri": "https://localhost:8080/"
        },
        "id": "Ii6TK45D54bL",
        "outputId": "9237a426-6f75-49f8-ddc7-0083f99bd1e3"
      },
      "execution_count": null,
      "outputs": [
        {
          "output_type": "stream",
          "name": "stdout",
          "text": [
            "[0, 1, 2, 0, 1, 2, 0, 1, 2, 0, 1, 2]\n"
          ]
        }
      ]
    },
    {
      "cell_type": "code",
      "source": [
        "list_of_lists=[]\n",
        "for num1 in range(4):\n",
        "  list_of_lists.append([])\n",
        "  for num2 in range(3):\n",
        "    list_of_lists[num1].append(num2)\n",
        "print(list_of_lists)\n"
      ],
      "metadata": {
        "colab": {
          "base_uri": "https://localhost:8080/"
        },
        "id": "m3jYzryi6GUL",
        "outputId": "2ed48705-622f-4e23-e667-c4b24b70b3eb"
      },
      "execution_count": null,
      "outputs": [
        {
          "output_type": "stream",
          "name": "stdout",
          "text": [
            "[[0, 1, 2], [0, 1, 2], [0, 1, 2], [0, 1, 2]]\n"
          ]
        }
      ]
    },
    {
      "cell_type": "code",
      "source": [
        "# Using list comprehension\n",
        "list_of_lists=[[num2 for num2 in range(3)] for num1 in range(4)]\n",
        "print(list_of_lists)"
      ],
      "metadata": {
        "colab": {
          "base_uri": "https://localhost:8080/"
        },
        "id": "v6z-EoyD7E9_",
        "outputId": "faf228bc-9868-4f93-eaee-6a8d649a9567"
      },
      "execution_count": null,
      "outputs": [
        {
          "output_type": "stream",
          "name": "stdout",
          "text": [
            "[[0, 1, 2], [0, 1, 2], [0, 1, 2], [0, 1, 2]]\n"
          ]
        }
      ]
    },
    {
      "cell_type": "code",
      "source": [
        "list_of_lists=[]\n",
        "for num1 in range(4):\n",
        "  list_of_lists.append([])\n",
        "  for num2 in range(3):\n",
        "    list_of_lists[num1].append(num1)\n",
        "print(list_of_lists)"
      ],
      "metadata": {
        "id": "eK2iaFH37wGh",
        "colab": {
          "base_uri": "https://localhost:8080/"
        },
        "outputId": "f16e8941-1b6b-4767-9afe-dc8899d4ed14"
      },
      "execution_count": 1,
      "outputs": [
        {
          "output_type": "stream",
          "name": "stdout",
          "text": [
            "[[0, 0, 0], [1, 1, 1], [2, 2, 2], [3, 3, 3]]\n"
          ]
        }
      ]
    },
    {
      "cell_type": "code",
      "source": [
        "# Using list comprehension\n",
        "list_of_lists=[[num1 for num2 in range(3)] for num1 in range(4)]\n",
        "print(list_of_lists)"
      ],
      "metadata": {
        "colab": {
          "base_uri": "https://localhost:8080/"
        },
        "id": "hs3SAfx8Zkgz",
        "outputId": "79ec08ff-8be5-4121-e908-9c1b4a89fcf2"
      },
      "execution_count": 2,
      "outputs": [
        {
          "output_type": "stream",
          "name": "stdout",
          "text": [
            "[[0, 0, 0], [1, 1, 1], [2, 2, 2], [3, 3, 3]]\n"
          ]
        }
      ]
    },
    {
      "cell_type": "code",
      "source": [
        "my_string='Data Scientist and Data Analyst'\n",
        "my_string1=my_string.split(' ')\n",
        "first_letters=[]\n",
        "for word in my_string:\n",
        "  first_letters.append(word[0])\n",
        "print(first_letters)"
      ],
      "metadata": {
        "colab": {
          "base_uri": "https://localhost:8080/"
        },
        "id": "Eradrh0mZwsH",
        "outputId": "965a4830-a5db-48a5-97ab-bae7fb27f44f"
      },
      "execution_count": 3,
      "outputs": [
        {
          "output_type": "stream",
          "name": "stdout",
          "text": [
            "['D', 'a', 't', 'a', ' ', 'S', 'c', 'i', 'e', 'n', 't', 'i', 's', 't', ' ', 'a', 'n', 'd', ' ', 'D', 'a', 't', 'a', ' ', 'A', 'n', 'a', 'l', 'y', 's', 't']\n"
          ]
        }
      ]
    },
    {
      "cell_type": "code",
      "source": [
        "# Using list comprehension\n",
        "first_letters=[word[0] for word in my_string]\n",
        "print(first_letters)"
      ],
      "metadata": {
        "colab": {
          "base_uri": "https://localhost:8080/"
        },
        "id": "Il0Jb9kqc_5N",
        "outputId": "ee4df2d4-4690-4a10-b018-8c7c5e1a9aea"
      },
      "execution_count": 5,
      "outputs": [
        {
          "output_type": "stream",
          "name": "stdout",
          "text": [
            "['D', 'a', 't', 'a', ' ', 'S', 'c', 'i', 'e', 'n', 't', 'i', 's', 't', ' ', 'a', 'n', 'd', ' ', 'D', 'a', 't', 'a', ' ', 'A', 'n', 'a', 'l', 'y', 's', 't']\n"
          ]
        }
      ]
    },
    {
      "cell_type": "code",
      "source": [
        "# Tuples\n",
        "days=('Monday','Tuesday','Wednesday','Thursday','Friday','Saturday')\n",
        "tuple(day for day in days)"
      ],
      "metadata": {
        "colab": {
          "base_uri": "https://localhost:8080/"
        },
        "id": "fLtUgcxae1jo",
        "outputId": "8437f33e-c60e-48e2-be59-503eaf9f37a3"
      },
      "execution_count": 7,
      "outputs": [
        {
          "output_type": "execute_result",
          "data": {
            "text/plain": [
              "('Monday', 'Tuesday', 'Wednesday', 'Thursday', 'Friday', 'Saturday')"
            ]
          },
          "metadata": {},
          "execution_count": 7
        }
      ]
    },
    {
      "cell_type": "code",
      "source": [
        "days_in_short=tuple([day[:3] for day in days])\n",
        "print(days_in_short)"
      ],
      "metadata": {
        "colab": {
          "base_uri": "https://localhost:8080/"
        },
        "id": "R3DJm79_glaf",
        "outputId": "21e66afb-3a79-445b-84cc-4a36d3fa4888"
      },
      "execution_count": 8,
      "outputs": [
        {
          "output_type": "stream",
          "name": "stdout",
          "text": [
            "('Mon', 'Tue', 'Wed', 'Thu', 'Fri', 'Sat')\n"
          ]
        }
      ]
    },
    {
      "cell_type": "code",
      "source": [
        "# Set\n",
        "first_letters={word[0] for word in my_string}\n",
        "print(first_letters)"
      ],
      "metadata": {
        "colab": {
          "base_uri": "https://localhost:8080/"
        },
        "id": "f2oSUuzLlepx",
        "outputId": "3b66f82d-dc49-46d9-bad3-09b58a948689"
      },
      "execution_count": 9,
      "outputs": [
        {
          "output_type": "stream",
          "name": "stdout",
          "text": [
            "{'e', 'c', 's', 'y', 't', ' ', 'i', 'A', 'l', 'd', 'S', 'n', 'a', 'D'}\n"
          ]
        }
      ]
    },
    {
      "cell_type": "code",
      "source": [
        "# Dictionary\n",
        "country_city_dict={'India':'New Delhi','Australia':'Canberra','United States':'Washington DC','England':'London'}\n",
        "flipped={}\n",
        "for country,city in country_city_dict.items():\n",
        "  flipped[city]=country\n",
        "print(flipped)"
      ],
      "metadata": {
        "colab": {
          "base_uri": "https://localhost:8080/"
        },
        "id": "s_Wz0Mpelemj",
        "outputId": "e6f6a834-0350-487f-ef70-7e31937ad6b6"
      },
      "execution_count": 16,
      "outputs": [
        {
          "output_type": "stream",
          "name": "stdout",
          "text": [
            "{'New Delhi': 'India', 'Canberra': 'Australia', 'Washington DC': 'United States', 'London': 'England'}\n"
          ]
        }
      ]
    },
    {
      "cell_type": "code",
      "source": [
        "# Using comprehension\n",
        "flipped={city:country for country,city in country_city_dict.items()}\n",
        "print(flipped)"
      ],
      "metadata": {
        "colab": {
          "base_uri": "https://localhost:8080/"
        },
        "id": "FnPt9LsZpCId",
        "outputId": "712b6402-2681-4f91-f5c5-7d9ea1412f60"
      },
      "execution_count": 17,
      "outputs": [
        {
          "output_type": "stream",
          "name": "stdout",
          "text": [
            "{'New Delhi': 'India', 'Canberra': 'Australia', 'Washington DC': 'United States', 'London': 'England'}\n"
          ]
        }
      ]
    }
  ]
}