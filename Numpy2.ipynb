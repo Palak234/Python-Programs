{
  "nbformat": 4,
  "nbformat_minor": 0,
  "metadata": {
    "colab": {
      "provenance": [],
      "authorship_tag": "ABX9TyPLO3euvVhWyKyp6WkvBNFM"
    },
    "kernelspec": {
      "name": "python3",
      "display_name": "Python 3"
    },
    "language_info": {
      "name": "python"
    }
  },
  "cells": [
    {
      "cell_type": "code",
      "execution_count": 2,
      "metadata": {
        "id": "mVxmZpVCk9FZ",
        "colab": {
          "base_uri": "https://localhost:8080/"
        },
        "outputId": "7576fbb2-d572-43f4-ba80-64f500d1a828"
      },
      "outputs": [
        {
          "output_type": "stream",
          "name": "stdout",
          "text": [
            "[[10 20 20]\n",
            " [25 13 23]]\n"
          ]
        }
      ],
      "source": [
        "# Array Manipulation\n",
        "# Transpose\n",
        "import numpy as np\n",
        "my_array=np.array(np.random.randint(10,30,(2,3)))\n",
        "print(my_array)"
      ]
    },
    {
      "cell_type": "code",
      "source": [
        "my_array.shape"
      ],
      "metadata": {
        "colab": {
          "base_uri": "https://localhost:8080/"
        },
        "id": "tojP-336p6-E",
        "outputId": "9eb5eda0-67b0-4637-bd4e-f3b03d195a21"
      },
      "execution_count": null,
      "outputs": [
        {
          "output_type": "execute_result",
          "data": {
            "text/plain": [
              "(2, 3)"
            ]
          },
          "metadata": {},
          "execution_count": 3
        }
      ]
    },
    {
      "cell_type": "code",
      "source": [
        "my_array2=np.transpose(my_array)\n",
        "print(my_array2)"
      ],
      "metadata": {
        "colab": {
          "base_uri": "https://localhost:8080/"
        },
        "id": "e5H_T-7nqBF7",
        "outputId": "1d5a7789-50d2-47d9-d28c-6beb1564e933"
      },
      "execution_count": null,
      "outputs": [
        {
          "output_type": "stream",
          "name": "stdout",
          "text": [
            "[[11 22]\n",
            " [15 20]\n",
            " [12 25]]\n"
          ]
        }
      ]
    },
    {
      "cell_type": "code",
      "source": [
        "d3_array=np.array(np.random.randint(5,20,(2,4,6)))\n",
        "print(d3_array)"
      ],
      "metadata": {
        "colab": {
          "base_uri": "https://localhost:8080/"
        },
        "id": "pKFT9ohgqK7j",
        "outputId": "86feffc1-1b65-40fe-a230-7bf4ba397583"
      },
      "execution_count": null,
      "outputs": [
        {
          "output_type": "stream",
          "name": "stdout",
          "text": [
            "[[[ 9  7 11 17 18  7]\n",
            "  [ 9 16 18 10 18 15]\n",
            "  [ 8 16  9  7 12 10]\n",
            "  [11 19  5 19  8  8]]\n",
            "\n",
            " [[14 15 16  8 13 19]\n",
            "  [ 7 13 15  9 14 16]\n",
            "  [17 18 17 10 10 11]\n",
            "  [ 8  6 17 17 12 16]]]\n"
          ]
        }
      ]
    },
    {
      "cell_type": "code",
      "source": [
        "trans=np.transpose(d3_array)\n",
        "print(trans)"
      ],
      "metadata": {
        "colab": {
          "base_uri": "https://localhost:8080/"
        },
        "id": "3icdTS6rq4gs",
        "outputId": "baf5315a-d28f-44f1-f28b-23024259b75b"
      },
      "execution_count": null,
      "outputs": [
        {
          "output_type": "stream",
          "name": "stdout",
          "text": [
            "[[[ 9 14]\n",
            "  [ 9  7]\n",
            "  [ 8 17]\n",
            "  [11  8]]\n",
            "\n",
            " [[ 7 15]\n",
            "  [16 13]\n",
            "  [16 18]\n",
            "  [19  6]]\n",
            "\n",
            " [[11 16]\n",
            "  [18 15]\n",
            "  [ 9 17]\n",
            "  [ 5 17]]\n",
            "\n",
            " [[17  8]\n",
            "  [10  9]\n",
            "  [ 7 10]\n",
            "  [19 17]]\n",
            "\n",
            " [[18 13]\n",
            "  [18 14]\n",
            "  [12 10]\n",
            "  [ 8 12]]\n",
            "\n",
            " [[ 7 19]\n",
            "  [15 16]\n",
            "  [10 11]\n",
            "  [ 8 16]]]\n"
          ]
        }
      ]
    },
    {
      "cell_type": "code",
      "source": [
        "# Reshape\n",
        "arr = np.array([1, 2, 3, 4, 5, 6])\n",
        "reshaped_arr = arr.reshape(2, 3)\n",
        "print(reshaped_arr)"
      ],
      "metadata": {
        "colab": {
          "base_uri": "https://localhost:8080/"
        },
        "id": "OC8bkZg0rD8Z",
        "outputId": "df4a31f5-3e29-46ba-ca51-f7da6e9aa471"
      },
      "execution_count": null,
      "outputs": [
        {
          "output_type": "stream",
          "name": "stdout",
          "text": [
            "[[1 2 3]\n",
            " [4 5 6]]\n"
          ]
        }
      ]
    },
    {
      "cell_type": "code",
      "source": [
        "# Resize\n",
        "arr = np.array(np.random.randint(5,20,(2,3,4)))\n",
        "print(arr.shape)\n",
        "resized_arr = np.resize(arr,(3,4,5))\n",
        "print(resized_arr)\n",
        "print(resized_arr.shape)"
      ],
      "metadata": {
        "colab": {
          "base_uri": "https://localhost:8080/"
        },
        "id": "DXpqvXDltYj6",
        "outputId": "ae9cc3bf-485b-43d0-8ae7-248733d9573e"
      },
      "execution_count": null,
      "outputs": [
        {
          "output_type": "stream",
          "name": "stdout",
          "text": [
            "(2, 3, 4)\n",
            "[[[11 10  6 10 11]\n",
            "  [13 10 10 11 15]\n",
            "  [ 8  5 13 10 18]\n",
            "  [16  7  6 19 10]]\n",
            "\n",
            " [[18 17  6  9 11]\n",
            "  [10  6 10 11 13]\n",
            "  [10 10 11 15  8]\n",
            "  [ 5 13 10 18 16]]\n",
            "\n",
            " [[ 7  6 19 10 18]\n",
            "  [17  6  9 11 10]\n",
            "  [ 6 10 11 13 10]\n",
            "  [10 11 15  8  5]]]\n",
            "(3, 4, 5)\n"
          ]
        }
      ]
    },
    {
      "cell_type": "code",
      "source": [
        "arr1 = np.array(np.random.randint(5,20,(2,3,4)))\n",
        "print(arr1.shape)\n",
        "print(arr1)\n",
        "print(arr1.flatten())"
      ],
      "metadata": {
        "colab": {
          "base_uri": "https://localhost:8080/"
        },
        "id": "VjOhfDz7uG_N",
        "outputId": "544fd504-9d81-44be-f172-f80a146fb762"
      },
      "execution_count": null,
      "outputs": [
        {
          "output_type": "stream",
          "name": "stdout",
          "text": [
            "(2, 3, 4)\n",
            "[[[17 14 10 12]\n",
            "  [16 11 12 14]\n",
            "  [11 17  5 19]]\n",
            "\n",
            " [[13 12 13  9]\n",
            "  [ 9  8 14  6]\n",
            "  [ 7 10  9 10]]]\n",
            "[17 14 10 12 16 11 12 14 11 17  5 19 13 12 13  9  9  8 14  6  7 10  9 10]\n"
          ]
        }
      ]
    },
    {
      "cell_type": "code",
      "source": [
        "# Insert\n",
        "arr1 = np.array(np.random.randint(5,20,(2,3,4)))\n",
        "print(arr1)\n",
        "print(arr1.shape)\n",
        "np.insert(arr1,2,50,axis=1)"
      ],
      "metadata": {
        "colab": {
          "base_uri": "https://localhost:8080/"
        },
        "id": "hGr8dWK_u7kx",
        "outputId": "00c3a8b5-357d-48f2-9967-d4e41c4a0a4c"
      },
      "execution_count": null,
      "outputs": [
        {
          "output_type": "stream",
          "name": "stdout",
          "text": [
            "[[[12  7 11 18]\n",
            "  [10 12 19 16]\n",
            "  [14 13 12  6]]\n",
            "\n",
            " [[15  6 18 10]\n",
            "  [11  6 14 14]\n",
            "  [ 8 17 13  5]]]\n",
            "(2, 3, 4)\n"
          ]
        },
        {
          "output_type": "execute_result",
          "data": {
            "text/plain": [
              "array([[[12,  7, 11, 18],\n",
              "        [10, 12, 19, 16],\n",
              "        [50, 50, 50, 50],\n",
              "        [14, 13, 12,  6]],\n",
              "\n",
              "       [[15,  6, 18, 10],\n",
              "        [11,  6, 14, 14],\n",
              "        [50, 50, 50, 50],\n",
              "        [ 8, 17, 13,  5]]])"
            ]
          },
          "metadata": {},
          "execution_count": 17
        }
      ]
    },
    {
      "cell_type": "code",
      "source": [
        "# Append\n",
        "arr2 = np.array(np.random.randint(10,20,(2,3,4)))\n",
        "print(arr2)\n",
        "print(arr2.shape)\n",
        "np.append(arr2,20)"
      ],
      "metadata": {
        "colab": {
          "base_uri": "https://localhost:8080/"
        },
        "id": "Jx-I1dbuu_Zg",
        "outputId": "78de73ba-2dfb-4290-ddcb-d241357eaece"
      },
      "execution_count": null,
      "outputs": [
        {
          "output_type": "stream",
          "name": "stdout",
          "text": [
            "[[[13 17 12 14]\n",
            "  [11 13 14 19]\n",
            "  [12 14 17 12]]\n",
            "\n",
            " [[11 10 18 15]\n",
            "  [10 12 10 13]\n",
            "  [14 16 16 12]]]\n",
            "(2, 3, 4)\n"
          ]
        },
        {
          "output_type": "execute_result",
          "data": {
            "text/plain": [
              "array([13, 17, 12, 14, 11, 13, 14, 19, 12, 14, 17, 12, 11, 10, 18, 15, 10,\n",
              "       12, 10, 13, 14, 16, 16, 12, 20])"
            ]
          },
          "metadata": {},
          "execution_count": 18
        }
      ]
    },
    {
      "cell_type": "code",
      "source": [
        "# Delete\n",
        "arr2 = np.array(np.random.randint(10,20,(2,3,4)))\n",
        "print(arr2)\n",
        "print(arr2.shape)\n",
        "np.delete(arr2,(1,2),axis=1)"
      ],
      "metadata": {
        "colab": {
          "base_uri": "https://localhost:8080/"
        },
        "id": "spruR2J_vBEO",
        "outputId": "68927e7f-55bd-4f76-afe9-5ca807f44d8c"
      },
      "execution_count": null,
      "outputs": [
        {
          "output_type": "stream",
          "name": "stdout",
          "text": [
            "[[[13 12 14 15]\n",
            "  [19 18 18 13]\n",
            "  [14 15 14 14]]\n",
            "\n",
            " [[17 12 16 11]\n",
            "  [15 13 15 14]\n",
            "  [18 14 17 15]]]\n",
            "(2, 3, 4)\n"
          ]
        },
        {
          "output_type": "execute_result",
          "data": {
            "text/plain": [
              "array([[[13, 12, 14, 15]],\n",
              "\n",
              "       [[17, 12, 16, 11]]])"
            ]
          },
          "metadata": {},
          "execution_count": 20
        }
      ]
    },
    {
      "cell_type": "code",
      "source": [
        "# Unique\n",
        "arr3 = np.array(np.random.randint(10,30,(2,3,4)))\n",
        "print(arr3)\n",
        "print(arr3.shape)\n",
        "np.unique(arr3,return_counts=True,return_index=True)"
      ],
      "metadata": {
        "colab": {
          "base_uri": "https://localhost:8080/"
        },
        "id": "0y0FJVsIvClI",
        "outputId": "b148d22e-ec90-4cb7-ce96-88189fd80762"
      },
      "execution_count": null,
      "outputs": [
        {
          "output_type": "stream",
          "name": "stdout",
          "text": [
            "[[[22 12 27 27]\n",
            "  [12 24 10 23]\n",
            "  [26 21 24 17]]\n",
            "\n",
            " [[23 16 13 29]\n",
            "  [22 11 11 29]\n",
            "  [26 16 23 25]]]\n",
            "(2, 3, 4)\n"
          ]
        },
        {
          "output_type": "execute_result",
          "data": {
            "text/plain": [
              "(array([10, 11, 12, 13, 16, 17, 21, 22, 23, 24, 25, 26, 27, 29]),\n",
              " array([ 6, 17,  1, 14, 13, 11,  9,  0,  7,  5, 23,  8,  2, 15]),\n",
              " array([1, 2, 2, 1, 2, 1, 1, 2, 3, 2, 1, 2, 2, 2]))"
            ]
          },
          "metadata": {},
          "execution_count": 22
        }
      ]
    },
    {
      "cell_type": "code",
      "source": [
        "# Copy and View\n",
        "# List\n",
        "a=[2,4,6]\n",
        "b=a\n",
        "b[0]=5\n",
        "print(b)\n",
        "print(a)"
      ],
      "metadata": {
        "colab": {
          "base_uri": "https://localhost:8080/"
        },
        "id": "ef1TB32sxVH1",
        "outputId": "d5cd42d5-f5fd-4ad4-fb1f-a13f3eab2cc2"
      },
      "execution_count": null,
      "outputs": [
        {
          "output_type": "stream",
          "name": "stdout",
          "text": [
            "[5, 4, 6]\n",
            "[5, 4, 6]\n"
          ]
        }
      ]
    },
    {
      "cell_type": "code",
      "source": [
        "# Using copy method\n",
        "a=[2,4,6]\n",
        "b=a.copy()\n",
        "b[0]=5\n",
        "print(b)\n",
        "print(a)"
      ],
      "metadata": {
        "colab": {
          "base_uri": "https://localhost:8080/"
        },
        "id": "8PQFeBf-x5DR",
        "outputId": "74297aa5-e8eb-4710-8b32-138643f3a070"
      },
      "execution_count": null,
      "outputs": [
        {
          "output_type": "stream",
          "name": "stdout",
          "text": [
            "[5, 4, 6]\n",
            "[2, 4, 6]\n"
          ]
        }
      ]
    },
    {
      "cell_type": "code",
      "source": [
        "# Array\n",
        "a=np.array([3,5,7])\n",
        "b=a\n",
        "b[0]=223\n",
        "print(b)\n",
        "print(a)"
      ],
      "metadata": {
        "colab": {
          "base_uri": "https://localhost:8080/"
        },
        "id": "qObgfLjXyRo0",
        "outputId": "21a8d7f8-efd8-419f-8450-a1bed111080e"
      },
      "execution_count": null,
      "outputs": [
        {
          "output_type": "stream",
          "name": "stdout",
          "text": [
            "[223   5   7]\n",
            "[223   5   7]\n"
          ]
        }
      ]
    },
    {
      "cell_type": "code",
      "source": [
        "a=np.array([3,5,7])\n",
        "b=a.copy()\n",
        "b[0]=223\n",
        "print(b)\n",
        "print(a)"
      ],
      "metadata": {
        "colab": {
          "base_uri": "https://localhost:8080/"
        },
        "id": "5VN9DAEozQpQ",
        "outputId": "dbad9227-fdb3-4ee8-b4b0-b17480f90e64"
      },
      "execution_count": null,
      "outputs": [
        {
          "output_type": "stream",
          "name": "stdout",
          "text": [
            "[223   5   7]\n",
            "[3 5 7]\n"
          ]
        }
      ]
    },
    {
      "cell_type": "code",
      "source": [
        "# Broadcasting\n",
        "np.arange(5)+3"
      ],
      "metadata": {
        "colab": {
          "base_uri": "https://localhost:8080/"
        },
        "id": "zr9SVZ79TXgb",
        "outputId": "89be4cf8-534f-460a-d4b3-a40b8c058ed7"
      },
      "execution_count": 3,
      "outputs": [
        {
          "output_type": "execute_result",
          "data": {
            "text/plain": [
              "array([3, 4, 5, 6, 7])"
            ]
          },
          "metadata": {},
          "execution_count": 3
        }
      ]
    },
    {
      "cell_type": "code",
      "source": [
        "np.ones((2,4))+np.arange(4)"
      ],
      "metadata": {
        "colab": {
          "base_uri": "https://localhost:8080/"
        },
        "id": "j-4KMYbqU-ou",
        "outputId": "630dc05e-6ead-4e0e-bea3-d7552f6b3cd5"
      },
      "execution_count": 4,
      "outputs": [
        {
          "output_type": "execute_result",
          "data": {
            "text/plain": [
              "array([[1., 2., 3., 4.],\n",
              "       [1., 2., 3., 4.]])"
            ]
          },
          "metadata": {},
          "execution_count": 4
        }
      ]
    },
    {
      "cell_type": "code",
      "source": [
        "np.arange(8).reshape(2,4)+np.arange(4)"
      ],
      "metadata": {
        "colab": {
          "base_uri": "https://localhost:8080/"
        },
        "id": "OHrTBv0NVNWn",
        "outputId": "b2f975dd-1328-40bc-ad4b-bc64bd2b43dd"
      },
      "execution_count": 6,
      "outputs": [
        {
          "output_type": "execute_result",
          "data": {
            "text/plain": [
              "array([[ 0,  2,  4,  6],\n",
              "       [ 4,  6,  8, 10]])"
            ]
          },
          "metadata": {},
          "execution_count": 6
        }
      ]
    },
    {
      "cell_type": "code",
      "source": [
        "# Multiply\n",
        "arr=np.random.randint(2,10,(1,3))\n",
        "print(arr)\n",
        "arr1=np.random.randint(1,5,(3,1))\n",
        "print(arr1)"
      ],
      "metadata": {
        "colab": {
          "base_uri": "https://localhost:8080/"
        },
        "id": "_fMtAPrDVugB",
        "outputId": "48f8a8d5-92ba-479e-cce3-97eceba65c53"
      },
      "execution_count": 8,
      "outputs": [
        {
          "output_type": "stream",
          "name": "stdout",
          "text": [
            "[[7 5 2]]\n",
            "[[3]\n",
            " [1]\n",
            " [2]]\n"
          ]
        }
      ]
    },
    {
      "cell_type": "code",
      "source": [
        "np.multiply(arr,arr1)"
      ],
      "metadata": {
        "colab": {
          "base_uri": "https://localhost:8080/"
        },
        "id": "-w9rof7ZWM-U",
        "outputId": "4174d4ee-51f1-47d9-b883-420f97da94c0"
      },
      "execution_count": 9,
      "outputs": [
        {
          "output_type": "execute_result",
          "data": {
            "text/plain": [
              "array([[21, 15,  6],\n",
              "       [ 7,  5,  2],\n",
              "       [14, 10,  4]])"
            ]
          },
          "metadata": {},
          "execution_count": 9
        }
      ]
    },
    {
      "cell_type": "code",
      "source": [
        "# Divide\n",
        "np.divide(arr,arr1)"
      ],
      "metadata": {
        "colab": {
          "base_uri": "https://localhost:8080/"
        },
        "id": "5WdMuAt3WiGw",
        "outputId": "d57facbc-16ad-48df-e490-2342e5f056d4"
      },
      "execution_count": 10,
      "outputs": [
        {
          "output_type": "execute_result",
          "data": {
            "text/plain": [
              "array([[2.33333333, 1.66666667, 0.66666667],\n",
              "       [7.        , 5.        , 2.        ],\n",
              "       [3.5       , 2.5       , 1.        ]])"
            ]
          },
          "metadata": {},
          "execution_count": 10
        }
      ]
    },
    {
      "cell_type": "code",
      "source": [
        "# Aggregation operations\n",
        "a=np.random.randint(2,20,(2,5))\n",
        "print(a)"
      ],
      "metadata": {
        "colab": {
          "base_uri": "https://localhost:8080/"
        },
        "id": "Jm8n_KMDWuL1",
        "outputId": "a9cd5311-9d12-4e3b-a6fe-642ce3a8415c"
      },
      "execution_count": 11,
      "outputs": [
        {
          "output_type": "stream",
          "name": "stdout",
          "text": [
            "[[12 12 13  4  7]\n",
            " [ 3  5 15 11 17]]\n"
          ]
        }
      ]
    },
    {
      "cell_type": "code",
      "source": [
        "print(np.sum(a))\n",
        "print(np.sum(a,axis=0))\n",
        "print(np.sum(a,axis=1))"
      ],
      "metadata": {
        "colab": {
          "base_uri": "https://localhost:8080/"
        },
        "id": "kXmg156hXcGD",
        "outputId": "6dec8c04-ae49-424c-b3a0-d6083f39009e"
      },
      "execution_count": 12,
      "outputs": [
        {
          "output_type": "stream",
          "name": "stdout",
          "text": [
            "99\n",
            "[15 17 28 15 24]\n",
            "[48 51]\n"
          ]
        }
      ]
    },
    {
      "cell_type": "code",
      "source": [
        "print(np.min(a))\n",
        "print(np.min(a,axis=1))"
      ],
      "metadata": {
        "colab": {
          "base_uri": "https://localhost:8080/"
        },
        "id": "W7a0dHJfY-VI",
        "outputId": "da875194-486c-4da3-9916-ae87366725c9"
      },
      "execution_count": 13,
      "outputs": [
        {
          "output_type": "stream",
          "name": "stdout",
          "text": [
            "3\n",
            "[4 3]\n"
          ]
        }
      ]
    },
    {
      "cell_type": "code",
      "source": [
        "print(np.sort(a))"
      ],
      "metadata": {
        "colab": {
          "base_uri": "https://localhost:8080/"
        },
        "id": "s-8GFs9UZOFW",
        "outputId": "361b5417-0d19-4be3-f8c1-ab3226f2a1b5"
      },
      "execution_count": 14,
      "outputs": [
        {
          "output_type": "stream",
          "name": "stdout",
          "text": [
            "[[ 4  7 12 12 13]\n",
            " [ 3  5 11 15 17]]\n"
          ]
        }
      ]
    }
  ]
}