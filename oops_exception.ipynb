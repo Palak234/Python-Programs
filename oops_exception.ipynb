{
  "nbformat": 4,
  "nbformat_minor": 0,
  "metadata": {
    "colab": {
      "provenance": [],
      "authorship_tag": "ABX9TyPsxm3bBBs1fGZVqGaotQz5"
    },
    "kernelspec": {
      "name": "python3",
      "display_name": "Python 3"
    },
    "language_info": {
      "name": "python"
    }
  },
  "cells": [
    {
      "cell_type": "code",
      "execution_count": 3,
      "metadata": {
        "colab": {
          "base_uri": "https://localhost:8080/",
          "height": 35
        },
        "id": "zVPOwanUAASz",
        "outputId": "3b08e516-b52c-4138-f7bd-b5568a444ade"
      },
      "outputs": [
        {
          "output_type": "execute_result",
          "data": {
            "text/plain": [
              "'Sam'"
            ],
            "application/vnd.google.colaboratory.intrinsic+json": {
              "type": "string"
            }
          },
          "metadata": {},
          "execution_count": 3
        }
      ],
      "source": [
        "class Dog:\n",
        "  def __init__(self,breed,name):\n",
        "    self.breed_attribute=breed\n",
        "    self.name_attribute=name\n",
        "sam_object=Dog(breed='Lab',name='Sam')\n",
        "frank_object=Dog(breed='Huskie',name='Frank')\n",
        "sam_object.name_attribute"
      ]
    },
    {
      "cell_type": "code",
      "source": [
        "class Circle:\n",
        "  def __init__(self,radius):\n",
        "    self.radius=radius\n",
        "    self.area=3.14*radius*radius\n",
        "    self.circumference=2*3.14*radius\n",
        "x=Circle(4)\n",
        "x.circumference"
      ],
      "metadata": {
        "colab": {
          "base_uri": "https://localhost:8080/"
        },
        "id": "Ptx5Jkc2Dlpo",
        "outputId": "933092ed-d166-4fa2-d4d5-3a2fe82896d7"
      },
      "execution_count": 5,
      "outputs": [
        {
          "output_type": "execute_result",
          "data": {
            "text/plain": [
              "25.12"
            ]
          },
          "metadata": {},
          "execution_count": 5
        }
      ]
    },
    {
      "cell_type": "code",
      "source": [
        "# Polymorphism\n",
        "class Shape:\n",
        "  def area(self):\n",
        "    return 'Undefined'\n",
        "class Square:\n",
        "  def __init__(self,side):\n",
        "    self.side=side\n",
        "  def area(self):\n",
        "    return self.side*self.side\n",
        "class Rectangle:\n",
        "  def __init__(self,length,breadth):\n",
        "    self.length=length\n",
        "    self.breadth=breadth\n",
        "  def area(self):\n",
        "    return self.length*self.breadth\n",
        "shapes=[Square(4),Rectangle(2,4)]\n",
        "for shape in shapes:\n",
        "  print(f'Area is {shape.area()}')\n",
        "\n"
      ],
      "metadata": {
        "colab": {
          "base_uri": "https://localhost:8080/"
        },
        "id": "G7TNep_hEV64",
        "outputId": "3d754ed5-0940-49a9-cd48-5a054819f6d4"
      },
      "execution_count": 6,
      "outputs": [
        {
          "output_type": "stream",
          "name": "stdout",
          "text": [
            "Area is 16\n",
            "Area is 8\n"
          ]
        }
      ]
    },
    {
      "cell_type": "code",
      "source": [
        "# Try and Except\n",
        "try:\n",
        "  print('Hello World')\n",
        "  print('Data Science')\n",
        "  print('a',b)\n",
        "except:\n",
        "  print('Error')"
      ],
      "metadata": {
        "colab": {
          "base_uri": "https://localhost:8080/"
        },
        "id": "vEFplKaxJd3k",
        "outputId": "34875baa-da28-4446-810f-9c48a09e8a8d"
      },
      "execution_count": 8,
      "outputs": [
        {
          "output_type": "stream",
          "name": "stdout",
          "text": [
            "Hello World\n",
            "Data Science\n",
            "Error\n"
          ]
        }
      ]
    }
  ]
}