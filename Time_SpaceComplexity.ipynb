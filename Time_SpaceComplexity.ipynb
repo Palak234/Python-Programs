{
  "nbformat": 4,
  "nbformat_minor": 0,
  "metadata": {
    "colab": {
      "provenance": [],
      "authorship_tag": "ABX9TyM6m35k6GO3qYM6OKectsBt"
    },
    "kernelspec": {
      "name": "python3",
      "display_name": "Python 3"
    },
    "language_info": {
      "name": "python"
    }
  },
  "cells": [
    {
      "cell_type": "code",
      "execution_count": 2,
      "metadata": {
        "colab": {
          "base_uri": "https://localhost:8080/"
        },
        "id": "YWmCdMSgpEB9",
        "outputId": "47ad5c24-7934-4ca1-8e76-32733405466f"
      },
      "outputs": [
        {
          "output_type": "stream",
          "name": "stdout",
          "text": [
            "Match found at index: 6\n",
            "6\n"
          ]
        }
      ],
      "source": [
        "integer_search=11\n",
        "my_list=[1,2,5,7,9,10,11,13,15]\n",
        "c=0\n",
        "for i in range(len(my_list)):\n",
        "  if integer_search==my_list[i]:\n",
        "    print(\"Match found at index:\",i)\n",
        "    break\n",
        "  c=c+1\n",
        "print(c)"
      ]
    },
    {
      "cell_type": "code",
      "source": [
        "my_list=[1,2,5,7,9,10,11,13,15]\n",
        "integer_search=10\n",
        "l=0\n",
        "r=len(my_list)-1\n",
        "c=0\n",
        "while l<=r:\n",
        "  m=(l+r)//2\n",
        "  if my_list[m]==integer_search:\n",
        "    print(\"Match found at index:\",m)\n",
        "    break\n",
        "  elif my_list[m]>integer_search:\n",
        "    r=m-1\n",
        "  else:\n",
        "    l=m+1\n",
        "  c+=1\n",
        "print(\"Iterations:\",c)"
      ],
      "metadata": {
        "colab": {
          "base_uri": "https://localhost:8080/"
        },
        "id": "o1fLsBhMqUQ_",
        "outputId": "1c60094e-8e55-4bbc-fac6-b12aacf3e1f4"
      },
      "execution_count": 6,
      "outputs": [
        {
          "output_type": "stream",
          "name": "stdout",
          "text": [
            "Match found at index: 5\n",
            "Iterations: 2\n"
          ]
        }
      ]
    }
  ]
}